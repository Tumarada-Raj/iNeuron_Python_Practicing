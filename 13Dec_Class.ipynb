{
 "cells": [
  {
   "cell_type": "markdown",
   "metadata": {},
   "source": [
    "# Methods"
   ]
  },
  {
   "cell_type": "code",
   "execution_count": 4,
   "metadata": {},
   "outputs": [
    {
     "name": "stdout",
     "output_type": "stream",
     "text": [
      "Alex Baldwin was born in 1958 .\n",
      "62\n"
     ]
    }
   ],
   "source": [
    "class Person:\n",
    "    def __init__(a, name, surname, yob):\n",
    "        a.name = name\n",
    "        a.surname = surname\n",
    "        a.yob = yob\n",
    "        \n",
    "    def age(a, current_year):\n",
    "        return current_year - a.yob\n",
    "    \n",
    "    def __str__(a):\n",
    "        return \"%s %s was born in %d .\" % (a.name, a.surname, a.yob)\n",
    "    \n",
    "alec = Person(\"Alex\",\"Baldwin\",1958)\n",
    "print(alec)\n",
    "print(alec.age(2020))"
   ]
  },
  {
   "cell_type": "markdown",
   "metadata": {},
   "source": [
    "In Pyhton class, __init__ is called to create a class object. Whereas,\n",
    "                __str__ is called to print the objects of a class."
   ]
  },
  {
   "cell_type": "markdown",
   "metadata": {},
   "source": [
    "# Bad Practice"
   ]
  },
  {
   "cell_type": "code",
   "execution_count": 14,
   "metadata": {},
   "outputs": [],
   "source": [
    "class Person:\n",
    "    \n",
    "    def set_name(self, name):\n",
    "        self.name = name\n",
    "    def set_surname(self, surname):\n",
    "        self.surname = surname\n",
    "    def set_yob(self, yob):\n",
    "        self.yob = yob\n",
    "    def age(self, current_year):\n",
    "        return current_year - self.yob\n",
    "    def __str__(self):\n",
    "        return \"%s %s was born in %d .\" % (self.name, self.surname, self.yob)\n",
    "    "
   ]
  },
  {
   "cell_type": "code",
   "execution_count": 15,
   "metadata": {},
   "outputs": [
    {
     "name": "stdout",
     "output_type": "stream",
     "text": [
      "Mohan Tumarada was born in 1996 .\n"
     ]
    }
   ],
   "source": [
    "raj = Person()\n",
    "raj.set_name('Mohan')\n",
    "raj.set_surname('Tumarada')\n",
    "raj.set_yob(1996)\n",
    "print(raj)"
   ]
  },
  {
   "cell_type": "code",
   "execution_count": 33,
   "metadata": {},
   "outputs": [
    {
     "name": "stdout",
     "output_type": "stream",
     "text": [
      "Alex\n",
      "Baldwin\n"
     ]
    }
   ],
   "source": [
    "class Person:\n",
    "    def __init__(self, name, surname, yob):\n",
    "        self.__name = name\n",
    "        self.__surname = surname\n",
    "        self.__yob = yob\n",
    "        \n",
    "    def age(self, current_year):\n",
    "        return current_year - self.__yob\n",
    "    \n",
    "    def __str__(self):\n",
    "        return \"%s %s was born in %d .\" % (self.__name, self.__surname, self.__yob)\n",
    "    \n",
    "alec = Person(\"Alex\",\"Baldwin\",1958)\n",
    "print(alec._Person__name)\n",
    "print(alec._Person__surname)"
   ]
  },
  {
   "cell_type": "code",
   "execution_count": null,
   "metadata": {},
   "outputs": [],
   "source": []
  },
  {
   "cell_type": "code",
   "execution_count": null,
   "metadata": {},
   "outputs": [],
   "source": []
  },
  {
   "cell_type": "markdown",
   "metadata": {},
   "source": [
    "# Inheritance"
   ]
  },
  {
   "cell_type": "code",
   "execution_count": 45,
   "metadata": {},
   "outputs": [
    {
     "name": "stdout",
     "output_type": "stream",
     "text": [
      "Charlie\n",
      "Smith\n",
      "<class '__main__.Student'>\n",
      "True\n",
      "True\n",
      "False\n",
      "True\n"
     ]
    },
    {
     "data": {
      "text/plain": [
       "14"
      ]
     },
     "execution_count": 45,
     "metadata": {},
     "output_type": "execute_result"
    }
   ],
   "source": [
    "class Student(Person):\n",
    "    def __init__(self, std_id, *args):\n",
    "        super(Student, self).__init__(*args) #Super Keyword means trying to call parent class object.\n",
    "        self._std_id = std_id\n",
    "        \n",
    "smith = Person('Smith', 'Brown', 2004)\n",
    "        \n",
    "charlie = Student(1,'Charlie', 'Brown',2006)\n",
    "print(charlie._Person__name)\n",
    "print(smith._Person__name)\n",
    "print(type(charlie))\n",
    "print(isinstance(charlie,Person))\n",
    "print(isinstance(smith,Person))\n",
    "print(isinstance(smith,Student))\n",
    "print(isinstance(charlie,object))\n",
    "charlie.age(2020)"
   ]
  },
  {
   "cell_type": "code",
   "execution_count": null,
   "metadata": {},
   "outputs": [],
   "source": []
  },
  {
   "cell_type": "code",
   "execution_count": null,
   "metadata": {},
   "outputs": [],
   "source": []
  }
 ],
 "metadata": {
  "kernelspec": {
   "display_name": "Python 3",
   "language": "python",
   "name": "python3"
  },
  "language_info": {
   "codemirror_mode": {
    "name": "ipython",
    "version": 3
   },
   "file_extension": ".py",
   "mimetype": "text/x-python",
   "name": "python",
   "nbconvert_exporter": "python",
   "pygments_lexer": "ipython3",
   "version": "3.7.1"
  }
 },
 "nbformat": 4,
 "nbformat_minor": 2
}
